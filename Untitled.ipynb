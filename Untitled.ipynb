{
 "cells": [
  {
   "cell_type": "markdown",
   "id": "c7702cd9",
   "metadata": {},
   "source": [
    "by : mohamed_mahmoud"
   ]
  },
  {
   "cell_type": "raw",
   "id": "6a0f7c65",
   "metadata": {},
   "source": [
    "GENDER PAY GAP"
   ]
  },
  {
   "cell_type": "markdown",
   "id": "30ec80c5",
   "metadata": {},
   "source": [
    "we will test wheathwe a particular company is discriminating a gainst some of employess on a gender basis "
   ]
  },
  {
   "cell_type": "code",
   "execution_count": 35,
   "id": "d22f8f8b",
   "metadata": {},
   "outputs": [],
   "source": [
    "import pandas as pd\n",
    "import numpy as np"
   ]
  },
  {
   "cell_type": "code",
   "execution_count": 36,
   "id": "82f29f72",
   "metadata": {},
   "outputs": [
    {
     "name": "stderr",
     "output_type": "stream",
     "text": [
      "C:\\Users\\anaes\\AppData\\Local\\Temp\\ipykernel_27668\\542648478.py:1: DeprecationWarning: `np.str` is a deprecated alias for the builtin `str`. To silence this warning, use `str` by itself. Doing this will not modify any behavior and is safe. If you specifically wanted the numpy scalar type, use `np.str_` here.\n",
      "Deprecated in NumPy 1.20; for more details and guidance: https://numpy.org/devdocs/release/1.20.0-notes.html#deprecations\n",
      "  ff=np.genfromtxt(\"Book3.csv\",delimiter=';',dtype=np.str)\n"
     ]
    }
   ],
   "source": [
    "ff=np.genfromtxt(\"Book3.csv\",delimiter=';',dtype=np.str)\n",
    "ff=np.delete(ff,[0,1,2],axis=0)\n",
    "ff.shape\n",
    "np.savetxt('update_data.csv',ff,fmt='%s',delimiter=',')"
   ]
  },
  {
   "cell_type": "code",
   "execution_count": 37,
   "id": "a2d446a0",
   "metadata": {},
   "outputs": [
    {
     "data": {
      "text/html": [
       "<div>\n",
       "<style scoped>\n",
       "    .dataframe tbody tr th:only-of-type {\n",
       "        vertical-align: middle;\n",
       "    }\n",
       "\n",
       "    .dataframe tbody tr th {\n",
       "        vertical-align: top;\n",
       "    }\n",
       "\n",
       "    .dataframe thead th {\n",
       "        text-align: right;\n",
       "    }\n",
       "</style>\n",
       "<table border=\"1\" class=\"dataframe\">\n",
       "  <thead>\n",
       "    <tr style=\"text-align: right;\">\n",
       "      <th></th>\n",
       "      <th>0</th>\n",
       "    </tr>\n",
       "  </thead>\n",
       "  <tbody>\n",
       "    <tr>\n",
       "      <th>0</th>\n",
       "      <td>Surname,Name,Age,Gender,Country,Ethnicity,Star...</td>\n",
       "    </tr>\n",
       "    <tr>\n",
       "      <th>1</th>\n",
       "      <td>Bold,Caroline,63,Female,United States,White,7/...</td>\n",
       "    </tr>\n",
       "    <tr>\n",
       "      <th>2</th>\n",
       "      <td>Zamora,Jennifer,38,Female,United States,White,...</td>\n",
       "    </tr>\n",
       "    <tr>\n",
       "      <th>3</th>\n",
       "      <td>Houlihan,Debra,51,Female,United States,White,5...</td>\n",
       "    </tr>\n",
       "    <tr>\n",
       "      <th>4</th>\n",
       "      <td>Bramante,Elisa,34,Female,United States,Black o...</td>\n",
       "    </tr>\n",
       "    <tr>\n",
       "      <th>...</th>\n",
       "      <td>...</td>\n",
       "    </tr>\n",
       "    <tr>\n",
       "      <th>170</th>\n",
       "      <td>Osturnka,Adeel,41,Male,United States,White,9/3...</td>\n",
       "    </tr>\n",
       "    <tr>\n",
       "      <th>171</th>\n",
       "      <td>Punjabhi,Louis,56,Male,United States,White,1/6...</td>\n",
       "    </tr>\n",
       "    <tr>\n",
       "      <th>172</th>\n",
       "      <td>Cockel,James,40,Male,United States,White,7/8/2...</td>\n",
       "    </tr>\n",
       "    <tr>\n",
       "      <th>173</th>\n",
       "      <td>Gordon,David,38,Male,United States,White,7/2/2...</td>\n",
       "    </tr>\n",
       "    <tr>\n",
       "      <th>174</th>\n",
       "      <td>Knapp,Bradley J,40,Male,United States,Black or...</td>\n",
       "    </tr>\n",
       "  </tbody>\n",
       "</table>\n",
       "<p>175 rows × 1 columns</p>\n",
       "</div>"
      ],
      "text/plain": [
       "                                                     0\n",
       "0    Surname,Name,Age,Gender,Country,Ethnicity,Star...\n",
       "1    Bold,Caroline,63,Female,United States,White,7/...\n",
       "2    Zamora,Jennifer,38,Female,United States,White,...\n",
       "3    Houlihan,Debra,51,Female,United States,White,5...\n",
       "4    Bramante,Elisa,34,Female,United States,Black o...\n",
       "..                                                 ...\n",
       "170  Osturnka,Adeel,41,Male,United States,White,9/3...\n",
       "171  Punjabhi,Louis,56,Male,United States,White,1/6...\n",
       "172  Cockel,James,40,Male,United States,White,7/8/2...\n",
       "173  Gordon,David,38,Male,United States,White,7/2/2...\n",
       "174  Knapp,Bradley J,40,Male,United States,Black or...\n",
       "\n",
       "[175 rows x 1 columns]"
      ]
     },
     "execution_count": 37,
     "metadata": {},
     "output_type": "execute_result"
    }
   ],
   "source": [
    "data=pd.DataFrame(ff)\n",
    "data"
   ]
  },
  {
   "cell_type": "code",
   "execution_count": 70,
   "id": "727d0f0b",
   "metadata": {},
   "outputs": [
    {
     "data": {
      "text/html": [
       "<div>\n",
       "<style scoped>\n",
       "    .dataframe tbody tr th:only-of-type {\n",
       "        vertical-align: middle;\n",
       "    }\n",
       "\n",
       "    .dataframe tbody tr th {\n",
       "        vertical-align: top;\n",
       "    }\n",
       "\n",
       "    .dataframe thead th {\n",
       "        text-align: right;\n",
       "    }\n",
       "</style>\n",
       "<table border=\"1\" class=\"dataframe\">\n",
       "  <thead>\n",
       "    <tr style=\"text-align: right;\">\n",
       "      <th></th>\n",
       "      <th>Surname</th>\n",
       "      <th>Name</th>\n",
       "      <th>Age</th>\n",
       "      <th>Gender</th>\n",
       "      <th>Country</th>\n",
       "      <th>Ethnicity</th>\n",
       "      <th>Start_date</th>\n",
       "      <th>Department</th>\n",
       "      <th>Position</th>\n",
       "      <th>Salary</th>\n",
       "    </tr>\n",
       "  </thead>\n",
       "  <tbody>\n",
       "    <tr>\n",
       "      <th>0</th>\n",
       "      <td>Bold</td>\n",
       "      <td>Caroline</td>\n",
       "      <td>63</td>\n",
       "      <td>Female</td>\n",
       "      <td>United States</td>\n",
       "      <td>White</td>\n",
       "      <td>7/2/2012</td>\n",
       "      <td>Executive Office</td>\n",
       "      <td>President &amp; CEO</td>\n",
       "      <td>$166,400.00</td>\n",
       "    </tr>\n",
       "    <tr>\n",
       "      <th>1</th>\n",
       "      <td>Zamora</td>\n",
       "      <td>Jennifer</td>\n",
       "      <td>38</td>\n",
       "      <td>Female</td>\n",
       "      <td>United States</td>\n",
       "      <td>White</td>\n",
       "      <td>4/10/2010</td>\n",
       "      <td>IT/IS</td>\n",
       "      <td>CIO</td>\n",
       "      <td>$135,200.00</td>\n",
       "    </tr>\n",
       "    <tr>\n",
       "      <th>2</th>\n",
       "      <td>Houlihan</td>\n",
       "      <td>Debra</td>\n",
       "      <td>51</td>\n",
       "      <td>Female</td>\n",
       "      <td>United States</td>\n",
       "      <td>White</td>\n",
       "      <td>5/5/2014</td>\n",
       "      <td>Sales</td>\n",
       "      <td>Director of Sales</td>\n",
       "      <td>$124,800.00</td>\n",
       "    </tr>\n",
       "    <tr>\n",
       "      <th>3</th>\n",
       "      <td>Bramante</td>\n",
       "      <td>Elisa</td>\n",
       "      <td>34</td>\n",
       "      <td>Female</td>\n",
       "      <td>United States</td>\n",
       "      <td>Black or African American</td>\n",
       "      <td>1/5/2009</td>\n",
       "      <td>Production</td>\n",
       "      <td>Director of Operations</td>\n",
       "      <td>$124,800.00</td>\n",
       "    </tr>\n",
       "    <tr>\n",
       "      <th>4</th>\n",
       "      <td>Del Bosque</td>\n",
       "      <td>Keyla</td>\n",
       "      <td>38</td>\n",
       "      <td>Female</td>\n",
       "      <td>United States</td>\n",
       "      <td>Black or African American</td>\n",
       "      <td>1/9/2012</td>\n",
       "      <td>Software Engineering</td>\n",
       "      <td>Software Engineer</td>\n",
       "      <td>$118,809.60</td>\n",
       "    </tr>\n",
       "    <tr>\n",
       "      <th>...</th>\n",
       "      <td>...</td>\n",
       "      <td>...</td>\n",
       "      <td>...</td>\n",
       "      <td>...</td>\n",
       "      <td>...</td>\n",
       "      <td>...</td>\n",
       "      <td>...</td>\n",
       "      <td>...</td>\n",
       "      <td>...</td>\n",
       "      <td>...</td>\n",
       "    </tr>\n",
       "    <tr>\n",
       "      <th>169</th>\n",
       "      <td>Osturnka</td>\n",
       "      <td>Adeel</td>\n",
       "      <td>41</td>\n",
       "      <td>Male</td>\n",
       "      <td>United States</td>\n",
       "      <td>White</td>\n",
       "      <td>9/30/2013</td>\n",
       "      <td>Production</td>\n",
       "      <td>Production Technician I</td>\n",
       "      <td>$33,280.00</td>\n",
       "    </tr>\n",
       "    <tr>\n",
       "      <th>170</th>\n",
       "      <td>Punjabhi</td>\n",
       "      <td>Louis</td>\n",
       "      <td>56</td>\n",
       "      <td>Male</td>\n",
       "      <td>United States</td>\n",
       "      <td>White</td>\n",
       "      <td>1/6/2014</td>\n",
       "      <td>Production</td>\n",
       "      <td>Production Technician I</td>\n",
       "      <td>$33,280.00</td>\n",
       "    </tr>\n",
       "    <tr>\n",
       "      <th>171</th>\n",
       "      <td>Cockel</td>\n",
       "      <td>James</td>\n",
       "      <td>40</td>\n",
       "      <td>Male</td>\n",
       "      <td>United States</td>\n",
       "      <td>White</td>\n",
       "      <td>7/8/2013</td>\n",
       "      <td>Production</td>\n",
       "      <td>Production Technician I</td>\n",
       "      <td>$31,200.00</td>\n",
       "    </tr>\n",
       "    <tr>\n",
       "      <th>172</th>\n",
       "      <td>Gordon</td>\n",
       "      <td>David</td>\n",
       "      <td>38</td>\n",
       "      <td>Male</td>\n",
       "      <td>United States</td>\n",
       "      <td>White</td>\n",
       "      <td>7/2/2012</td>\n",
       "      <td>Production</td>\n",
       "      <td>Production Technician I</td>\n",
       "      <td>$31,200.00</td>\n",
       "    </tr>\n",
       "    <tr>\n",
       "      <th>173</th>\n",
       "      <td>Knapp</td>\n",
       "      <td>Bradley J</td>\n",
       "      <td>40</td>\n",
       "      <td>Male</td>\n",
       "      <td>United States</td>\n",
       "      <td>Black or African American</td>\n",
       "      <td>2/17/2014</td>\n",
       "      <td>Production</td>\n",
       "      <td>Production Technician I</td>\n",
       "      <td>$29,120.00</td>\n",
       "    </tr>\n",
       "  </tbody>\n",
       "</table>\n",
       "<p>174 rows × 10 columns</p>\n",
       "</div>"
      ],
      "text/plain": [
       "        Surname       Name  Age  Gender        Country  \\\n",
       "0          Bold   Caroline   63  Female  United States   \n",
       "1        Zamora   Jennifer   38  Female  United States   \n",
       "2      Houlihan      Debra   51  Female  United States   \n",
       "3      Bramante      Elisa   34  Female  United States   \n",
       "4    Del Bosque      Keyla   38  Female  United States   \n",
       "..          ...        ...  ...     ...            ...   \n",
       "169    Osturnka      Adeel   41    Male  United States   \n",
       "170    Punjabhi      Louis   56    Male  United States   \n",
       "171      Cockel      James   40    Male  United States   \n",
       "172      Gordon      David   38    Male  United States   \n",
       "173       Knapp  Bradley J   40    Male  United States   \n",
       "\n",
       "                     Ethnicity Start_date            Department  \\\n",
       "0                        White   7/2/2012      Executive Office   \n",
       "1                        White  4/10/2010                 IT/IS   \n",
       "2                        White   5/5/2014                 Sales   \n",
       "3    Black or African American   1/5/2009     Production          \n",
       "4    Black or African American   1/9/2012  Software Engineering   \n",
       "..                         ...        ...                   ...   \n",
       "169                      White  9/30/2013     Production          \n",
       "170                      White   1/6/2014     Production          \n",
       "171                      White   7/8/2013     Production          \n",
       "172                      White   7/2/2012     Production          \n",
       "173  Black or African American  2/17/2014     Production          \n",
       "\n",
       "                    Position       Salary  \n",
       "0            President & CEO  $166,400.00  \n",
       "1                        CIO  $135,200.00  \n",
       "2          Director of Sales  $124,800.00  \n",
       "3     Director of Operations  $124,800.00  \n",
       "4          Software Engineer  $118,809.60  \n",
       "..                       ...          ...  \n",
       "169  Production Technician I   $33,280.00  \n",
       "170  Production Technician I   $33,280.00  \n",
       "171  Production Technician I   $31,200.00  \n",
       "172  Production Technician I   $31,200.00  \n",
       "173  Production Technician I   $29,120.00  \n",
       "\n",
       "[174 rows x 10 columns]"
      ]
     },
     "execution_count": 70,
     "metadata": {},
     "output_type": "execute_result"
    }
   ],
   "source": [
    "data_control=pd.read_csv('update_data.csv')\n",
    "df=data_control.copy()\n",
    "df"
   ]
  },
  {
   "cell_type": "code",
   "execution_count": 39,
   "id": "f6946cd3",
   "metadata": {},
   "outputs": [
    {
     "data": {
      "text/plain": [
       "(174, 10)"
      ]
     },
     "execution_count": 39,
     "metadata": {},
     "output_type": "execute_result"
    }
   ],
   "source": [
    "df.shape"
   ]
  },
  {
   "cell_type": "code",
   "execution_count": 71,
   "id": "d235a3ed",
   "metadata": {},
   "outputs": [
    {
     "data": {
      "text/plain": [
       "Index(['Surname', 'Name', 'Age', 'Gender', 'Country', 'Ethnicity',\n",
       "       'Start_date', 'Department', 'Position', 'Salary'],\n",
       "      dtype='object')"
      ]
     },
     "execution_count": 71,
     "metadata": {},
     "output_type": "execute_result"
    }
   ],
   "source": [
    "df.columns"
   ]
  },
  {
   "cell_type": "code",
   "execution_count": 72,
   "id": "dbdb23a3",
   "metadata": {},
   "outputs": [
    {
     "name": "stdout",
     "output_type": "stream",
     "text": [
      "<class 'pandas.core.frame.DataFrame'>\n",
      "RangeIndex: 174 entries, 0 to 173\n",
      "Data columns (total 10 columns):\n",
      " #   Column      Non-Null Count  Dtype \n",
      "---  ------      --------------  ----- \n",
      " 0   Surname     174 non-null    object\n",
      " 1   Name        174 non-null    object\n",
      " 2   Age         174 non-null    int64 \n",
      " 3   Gender      174 non-null    object\n",
      " 4   Country     174 non-null    object\n",
      " 5   Ethnicity   174 non-null    object\n",
      " 6   Start_date  174 non-null    object\n",
      " 7   Department  174 non-null    object\n",
      " 8   Position    174 non-null    object\n",
      " 9   Salary      174 non-null    object\n",
      "dtypes: int64(1), object(9)\n",
      "memory usage: 13.7+ KB\n"
     ]
    }
   ],
   "source": [
    "df.info()"
   ]
  },
  {
   "cell_type": "markdown",
   "id": "064f699c",
   "metadata": {},
   "source": [
    "we are going to testin if there is significant difference in the salaries employees are paid   based on the gender"
   ]
  },
  {
   "cell_type": "markdown",
   "id": "e9c0bf44",
   "metadata": {},
   "source": [
    "sample could be divided into two sub_samples :\n",
    "\n",
    "    -->male      ----> female\n",
    "\n",
    "      independent sample\n",
    "    "
   ]
  },
  {
   "cell_type": "markdown",
   "id": "6079a7da",
   "metadata": {},
   "source": [
    " # lets start two hypotheses"
   ]
  },
  {
   "cell_type": "markdown",
   "id": "aecb831b",
   "metadata": {},
   "source": [
    "H0:the average male salary is equal to average female \n",
    "\n",
    "                or\n",
    "\n",
    "H0: Mf=Mm\n",
    "\n",
    "H0:MF-Mm=0\n",
    "    "
   ]
  },
  {
   "cell_type": "markdown",
   "id": "60bbd8c2",
   "metadata": {},
   "source": [
    "H1:the average male salary is not equal to average female \n",
    "                 \n",
    "                or\n",
    "\n",
    "            H1: Mf != Mm\n",
    "                \n",
    "H1:MF-Mm !=0\n",
    "    "
   ]
  },
  {
   "cell_type": "markdown",
   "id": "6a398062",
   "metadata": {},
   "source": [
    "use t_test becouse that independent salary and we assume that it equal"
   ]
  },
  {
   "cell_type": "markdown",
   "id": "c66bac77",
   "metadata": {},
   "source": [
    "The regex=True parameter is used with the str.replace() method in pandas to indicate that the pattern provided is a regular expression.\n",
    "regex=True is specified, the str.replace() method interprets the pattern as a regular expression and replaces all characters that match the pattern with an empty string, effectively removing them from the 'Salary' column."
   ]
  },
  {
   "cell_type": "code",
   "execution_count": 73,
   "id": "0e6eb190",
   "metadata": {},
   "outputs": [],
   "source": [
    "df['Salary']=df['Salary'].str.strip('$')\n",
    "df['Salary']=df['Salary'].str.replace(',','',regex=True)\n",
    "df['Salary']=df['Salary'].astype('float')"
   ]
  },
  {
   "cell_type": "code",
   "execution_count": 74,
   "id": "75b033bb",
   "metadata": {},
   "outputs": [
    {
     "data": {
      "text/plain": [
       "dtype('float64')"
      ]
     },
     "execution_count": 74,
     "metadata": {},
     "output_type": "execute_result"
    }
   ],
   "source": [
    "df['Salary'].dtype"
   ]
  },
  {
   "cell_type": "markdown",
   "id": "4b70ce4a",
   "metadata": {},
   "source": [
    " ## get populattion variance"
   ]
  },
  {
   "cell_type": "code",
   "execution_count": 44,
   "id": "39b0cbe2",
   "metadata": {},
   "outputs": [
    {
     "data": {
      "text/plain": [
       "1097618027.68"
      ]
     },
     "execution_count": 44,
     "metadata": {},
     "output_type": "execute_result"
    }
   ],
   "source": [
    "male_variance_salary=round(np.var( (df[df['Gender']=='Male']['Salary']),ddof=1),2)\n",
    "male_variance_salary\n",
    "female_variance_salary=round(np.var( (df[df['Gender']=='Female']['Salary']),ddof=1),2)\n",
    "female_variance_salary"
   ]
  },
  {
   "cell_type": "markdown",
   "id": "5b8e6cde",
   "metadata": {},
   "source": [
    "### pooled variance"
   ]
  },
  {
   "cell_type": "code",
   "execution_count": 45,
   "id": "a274d629",
   "metadata": {},
   "outputs": [
    {
     "data": {
      "text/plain": [
       "1160327458.0055816"
      ]
     },
     "execution_count": 45,
     "metadata": {},
     "output_type": "execute_result"
    }
   ],
   "source": [
    "sp_squr=(75*male_variance_salary+97*female_variance_salary)/172\n",
    "sp_squr"
   ]
  },
  {
   "cell_type": "markdown",
   "id": "273e640a",
   "metadata": {},
   "source": [
    " # T_score"
   ]
  },
  {
   "attachments": {
    "Screenshot%202024-02-17%20184829.png": {
     "image/png": "[encoded data removed]"
    }
   },
   "cell_type": "markdown",
   "id": "574663e7",
   "metadata": {},
   "source": [
    "![Screenshot%202024-02-17%20184829.png](attachment:Screenshot%202024-02-17%20184829.png)"
   ]
  },
  {
   "cell_type": "code",
   "execution_count": 46,
   "id": "f49bbd2a",
   "metadata": {},
   "outputs": [
    {
     "data": {
      "text/html": [
       "<div>\n",
       "<style scoped>\n",
       "    .dataframe tbody tr th:only-of-type {\n",
       "        vertical-align: middle;\n",
       "    }\n",
       "\n",
       "    .dataframe tbody tr th {\n",
       "        vertical-align: top;\n",
       "    }\n",
       "\n",
       "    .dataframe thead th {\n",
       "        text-align: right;\n",
       "    }\n",
       "</style>\n",
       "<table border=\"1\" class=\"dataframe\">\n",
       "  <thead>\n",
       "    <tr style=\"text-align: right;\">\n",
       "      <th></th>\n",
       "      <th>male</th>\n",
       "      <th>female</th>\n",
       "    </tr>\n",
       "  </thead>\n",
       "  <tbody>\n",
       "    <tr>\n",
       "      <th>gender</th>\n",
       "      <td>male</td>\n",
       "      <td>female</td>\n",
       "    </tr>\n",
       "    <tr>\n",
       "      <th>size</th>\n",
       "      <td>76.0</td>\n",
       "      <td>98.0</td>\n",
       "    </tr>\n",
       "    <tr>\n",
       "      <th>average</th>\n",
       "      <td>72300.53</td>\n",
       "      <td>65736.91</td>\n",
       "    </tr>\n",
       "    <tr>\n",
       "      <th>populattion variance</th>\n",
       "      <td>1241431654.56</td>\n",
       "      <td>1097618027.68</td>\n",
       "    </tr>\n",
       "  </tbody>\n",
       "</table>\n",
       "</div>"
      ],
      "text/plain": [
       "                               male         female\n",
       "gender                         male         female\n",
       "size                           76.0           98.0\n",
       "average                    72300.53       65736.91\n",
       "populattion variance  1241431654.56  1097618027.68"
      ]
     },
     "execution_count": 46,
     "metadata": {},
     "output_type": "execute_result"
    }
   ],
   "source": [
    "data_g=[['male','female'],[df[df['Gender']=='Male'].size/10,df[df['Gender']=='Female'].size/10],\n",
    "        [round(df[df['Gender']=='Male']['Salary'].mean(),2),round(df[df['Gender']=='Female']['Salary'].mean(),2)],\n",
    "       [male_variance_salary,female_variance_salary]]\n",
    "df2=pd.DataFrame(data_g,columns=['male','female'],index=['gender','size','average','populattion variance'])\n",
    "df2"
   ]
  },
  {
   "cell_type": "code",
   "execution_count": 47,
   "id": "013c82e4",
   "metadata": {},
   "outputs": [
    {
     "data": {
      "text/plain": [
       "1.26"
      ]
     },
     "execution_count": 47,
     "metadata": {},
     "output_type": "execute_result"
    }
   ],
   "source": [
    "t_score=round((df2['male']['average']-df2['female']['average'])/np.sqrt((sp_squr/df2['male']['size'])+(sp_squr/df2['female']['size'])),2)\n",
    "t_score"
   ]
  },
  {
   "cell_type": "markdown",
   "id": "8c274212",
   "metadata": {},
   "source": [
    " ## P_value"
   ]
  },
  {
   "cell_type": "code",
   "execution_count": 48,
   "id": "3e149660",
   "metadata": {},
   "outputs": [
    {
     "name": "stdout",
     "output_type": "stream",
     "text": [
      "the_p_value is equal ==  0.1053\n"
     ]
    }
   ],
   "source": [
    "from scipy.stats import t\n",
    "drgree_freedoum=98\n",
    "p_value=round(1-t.cdf(t_score,df=drgree_freedoum),4)\n",
    "print('the_p_value is equal == ',p_value)"
   ]
  },
  {
   "cell_type": "markdown",
   "id": "9fa0f8cc",
   "metadata": {},
   "source": [
    " # p_value > foe every sign.....\n",
    " \n",
    "\n",
    "cannot reject the null hypothesis \n",
    "\n",
    "there isnt enough statistcal evidence that there"
   ]
  },
  {
   "cell_type": "markdown",
   "id": "3ac710da",
   "metadata": {},
   "source": [
    " # what if there is ahidden wage gap ?"
   ]
  },
  {
   "cell_type": "code",
   "execution_count": 49,
   "id": "83876279",
   "metadata": {},
   "outputs": [
    {
     "name": "stdout",
     "output_type": "stream",
     "text": [
      "25\n",
      "67\n",
      "36.0\n"
     ]
    }
   ],
   "source": [
    "sort_df= df.sort_values(by = 'Salary',ascending=False)\n",
    "sort_df\n",
    "print(sort_df['Age'].min())\n",
    "print(sort_df['Age'].max())\n",
    "print(sort_df['Age'].median())"
   ]
  },
  {
   "cell_type": "markdown",
   "id": "afb5b387",
   "metadata": {},
   "source": [
    " # lets get two groub \n",
    "\n",
    "->below 35\n",
    "\n",
    "->above 35\n",
    "\n",
    "this will give us valuable information about"
   ]
  },
  {
   "cell_type": "markdown",
   "id": "a5ff6880",
   "metadata": {},
   "source": [
    "<div style=\"background-color:blue\">\n",
    "<h1>BELOW 35</h1>\n",
    "</div>\n"
   ]
  },
  {
   "cell_type": "markdown",
   "id": "0cb9f162",
   "metadata": {},
   "source": []
  },
  {
   "cell_type": "code",
   "execution_count": 50,
   "id": "a3712706",
   "metadata": {},
   "outputs": [
    {
     "data": {
      "text/plain": [
       "820"
      ]
     },
     "execution_count": 50,
     "metadata": {},
     "output_type": "execute_result"
    }
   ],
   "source": [
    "df=df[df['Age']<=35]\n",
    "df.sort_values('Salary')\n",
    "df.size"
   ]
  },
  {
   "cell_type": "markdown",
   "id": "1f5068e9",
   "metadata": {},
   "source": [
    " ## get populattion variance "
   ]
  },
  {
   "cell_type": "code",
   "execution_count": 51,
   "id": "30f6a917",
   "metadata": {},
   "outputs": [
    {
     "name": "stdout",
     "output_type": "stream",
     "text": [
      "male_variance_salary =  973952882.7\n",
      "female_variance_salary =  1040033006.27\n"
     ]
    }
   ],
   "source": [
    "male_variance_salary=round(np.var( (df[df['Gender']=='Male']['Salary']),ddof=0),2)\n",
    "print('male_variance_salary = ',male_variance_salary)\n",
    "female_variance_salary=round(np.var( (df[df['Gender']=='Female']['Salary']),ddof=0),2)\n",
    "print('female_variance_salary = ',female_variance_salary)"
   ]
  },
  {
   "cell_type": "markdown",
   "id": "e8d55881",
   "metadata": {},
   "source": [
    "### pooled variance"
   ]
  },
  {
   "cell_type": "code",
   "execution_count": 18,
   "id": "1e8267e9",
   "metadata": {},
   "outputs": [
    {
     "data": {
      "text/plain": [
       "1011122952.2081249"
      ]
     },
     "execution_count": 18,
     "metadata": {},
     "output_type": "execute_result"
    }
   ],
   "source": [
    "sp_squr=(35*male_variance_salary+45*female_variance_salary)/80\n",
    "sp_squr"
   ]
  },
  {
   "cell_type": "markdown",
   "id": "2f9f9f84",
   "metadata": {},
   "source": [
    " # T_score"
   ]
  },
  {
   "cell_type": "code",
   "execution_count": 52,
   "id": "9e57cdce",
   "metadata": {},
   "outputs": [
    {
     "data": {
      "text/plain": [
       "1.26"
      ]
     },
     "execution_count": 52,
     "metadata": {},
     "output_type": "execute_result"
    }
   ],
   "source": [
    "t_score=round((df2['male']['average']-df2['female']['average'])/np.sqrt((sp_squr/df2['male']['size'])+(sp_squr/df2['female']['size'])),2)\n",
    "t_score"
   ]
  },
  {
   "cell_type": "markdown",
   "id": "617741bb",
   "metadata": {},
   "source": [
    " ## P_value"
   ]
  },
  {
   "cell_type": "code",
   "execution_count": 53,
   "id": "389f626a",
   "metadata": {},
   "outputs": [
    {
     "name": "stdout",
     "output_type": "stream",
     "text": [
      "the_p_value is equal ==  0.1053\n"
     ]
    }
   ],
   "source": [
    "from scipy.stats import t\n",
    "drgree_freedoum=98\n",
    "p_value=round(1-t.cdf(t_score,df=drgree_freedoum),4)\n",
    "print('the_p_value is equal == ',p_value)"
   ]
  },
  {
   "cell_type": "code",
   "execution_count": 54,
   "id": "1bbf1eff",
   "metadata": {},
   "outputs": [
    {
     "data": {
      "text/html": [
       "<div>\n",
       "<style scoped>\n",
       "    .dataframe tbody tr th:only-of-type {\n",
       "        vertical-align: middle;\n",
       "    }\n",
       "\n",
       "    .dataframe tbody tr th {\n",
       "        vertical-align: top;\n",
       "    }\n",
       "\n",
       "    .dataframe thead th {\n",
       "        text-align: right;\n",
       "    }\n",
       "</style>\n",
       "<table border=\"1\" class=\"dataframe\">\n",
       "  <thead>\n",
       "    <tr style=\"text-align: right;\">\n",
       "      <th></th>\n",
       "      <th>male</th>\n",
       "      <th>female</th>\n",
       "    </tr>\n",
       "  </thead>\n",
       "  <tbody>\n",
       "    <tr>\n",
       "      <th>gender</th>\n",
       "      <td>male</td>\n",
       "      <td>female</td>\n",
       "    </tr>\n",
       "    <tr>\n",
       "      <th>size</th>\n",
       "      <td>36.0</td>\n",
       "      <td>46.0</td>\n",
       "    </tr>\n",
       "    <tr>\n",
       "      <th>average</th>\n",
       "      <td>68622.67</td>\n",
       "      <td>66775.23</td>\n",
       "    </tr>\n",
       "    <tr>\n",
       "      <th>populattion variance</th>\n",
       "      <td>973952882.7</td>\n",
       "      <td>1040033006.27</td>\n",
       "    </tr>\n",
       "  </tbody>\n",
       "</table>\n",
       "</div>"
      ],
      "text/plain": [
       "                             male         female\n",
       "gender                       male         female\n",
       "size                         36.0           46.0\n",
       "average                  68622.67       66775.23\n",
       "populattion variance  973952882.7  1040033006.27"
      ]
     },
     "execution_count": 54,
     "metadata": {},
     "output_type": "execute_result"
    }
   ],
   "source": [
    "data_g=[['male','female'],[df[df['Gender']=='Male'].size/10,df[df['Gender']=='Female'].size/10],\n",
    "        [round(df[df['Gender']=='Male']['Salary'].mean(),2),round(df[df['Gender']=='Female']['Salary'].mean(),2)],\n",
    "       [male_variance_salary,female_variance_salary]]\n",
    "df2=pd.DataFrame(data_g,columns=['male','female'],index=['gender','size','average','populattion variance'])\n",
    "df2"
   ]
  },
  {
   "cell_type": "code",
   "execution_count": 22,
   "id": "76825555",
   "metadata": {},
   "outputs": [
    {
     "name": "stdout",
     "output_type": "stream",
     "text": [
      "below 35 \n",
      "p_value ->  0.0901\n",
      "t_score -> 1.35\n"
     ]
    }
   ],
   "source": [
    "print('below 35 ')\n",
    "print(\"p_value -> \",p_value)\n",
    "print(\"t_score ->\",t_score)\n"
   ]
  },
  {
   "cell_type": "markdown",
   "id": "9bcbd8d9",
   "metadata": {},
   "source": [
    " ## there is virtually no wage gap on gender basis \n",
    "100% sure there is no discrimination"
   ]
  },
  {
   "cell_type": "markdown",
   "id": "0c36dbba",
   "metadata": {},
   "source": [
    "<div style=\"background-color:RED\">\n",
    "<h1> ABOVE 35</h1>\n",
    "</div>\n"
   ]
  },
  {
   "cell_type": "code",
   "execution_count": 75,
   "id": "dee2873d",
   "metadata": {},
   "outputs": [
    {
     "data": {
      "text/plain": [
       "920"
      ]
     },
     "execution_count": 75,
     "metadata": {},
     "output_type": "execute_result"
    }
   ],
   "source": [
    "df=df[df['Age']>35]\n",
    "df.sort_values('Salary')\n",
    "df.size"
   ]
  },
  {
   "cell_type": "markdown",
   "id": "f449c535",
   "metadata": {},
   "source": [
    " ## get populattion variance "
   ]
  },
  {
   "cell_type": "code",
   "execution_count": 76,
   "id": "cee654fb",
   "metadata": {},
   "outputs": [
    {
     "name": "stdout",
     "output_type": "stream",
     "text": [
      "male_variance_salary =  1427996183.64\n",
      "female_variance_salary =  1125653203.84\n"
     ]
    }
   ],
   "source": [
    "male_variance_salary=round(np.var( (df[df['Gender']=='Male']['Salary']),ddof=0),2)\n",
    "print('male_variance_salary = ',male_variance_salary)\n",
    "female_variance_salary=round(np.var( (df[df['Gender']=='Female']['Salary']),ddof=0),2)\n",
    "print('female_variance_salary = ',female_variance_salary)"
   ]
  },
  {
   "cell_type": "markdown",
   "id": "42fa5b58",
   "metadata": {},
   "source": [
    "### pooled variance"
   ]
  },
  {
   "cell_type": "code",
   "execution_count": 77,
   "id": "ee681230",
   "metadata": {},
   "outputs": [
    {
     "data": {
      "text/plain": [
       "1256668495.0866666"
      ]
     },
     "execution_count": 77,
     "metadata": {},
     "output_type": "execute_result"
    }
   ],
   "source": [
    "sp_squr=(39*male_variance_salary+51*female_variance_salary)/90\n",
    "sp_squr"
   ]
  },
  {
   "cell_type": "markdown",
   "id": "193e5008",
   "metadata": {},
   "source": [
    " # T_score"
   ]
  },
  {
   "cell_type": "code",
   "execution_count": 78,
   "id": "38b7a8b5",
   "metadata": {},
   "outputs": [
    {
     "data": {
      "text/plain": [
       "1.45"
      ]
     },
     "execution_count": 78,
     "metadata": {},
     "output_type": "execute_result"
    }
   ],
   "source": [
    "t_score=round((df2['male']['average']-df2['female']['average'])/np.sqrt((sp_squr/df2['male']['size'])+(sp_squr/df2['female']['size'])),2)\n",
    "t_score"
   ]
  },
  {
   "cell_type": "markdown",
   "id": "a32324c1",
   "metadata": {},
   "source": [
    " ## P_value"
   ]
  },
  {
   "cell_type": "code",
   "execution_count": 79,
   "id": "49918b35",
   "metadata": {},
   "outputs": [
    {
     "name": "stdout",
     "output_type": "stream",
     "text": [
      "the_p_value is equal ==  0.0753\n"
     ]
    }
   ],
   "source": [
    "from scipy.stats import t\n",
    "drgree_freedoum=90\n",
    "p_value=round(1-t.cdf(t_score,df=drgree_freedoum),4)\n",
    "print('the_p_value is equal == ',p_value)"
   ]
  },
  {
   "cell_type": "code",
   "execution_count": 65,
   "id": "078b93b9",
   "metadata": {},
   "outputs": [
    {
     "data": {
      "text/html": [
       "<div>\n",
       "<style scoped>\n",
       "    .dataframe tbody tr th:only-of-type {\n",
       "        vertical-align: middle;\n",
       "    }\n",
       "\n",
       "    .dataframe tbody tr th {\n",
       "        vertical-align: top;\n",
       "    }\n",
       "\n",
       "    .dataframe thead th {\n",
       "        text-align: right;\n",
       "    }\n",
       "</style>\n",
       "<table border=\"1\" class=\"dataframe\">\n",
       "  <thead>\n",
       "    <tr style=\"text-align: right;\">\n",
       "      <th></th>\n",
       "      <th>male</th>\n",
       "      <th>female</th>\n",
       "    </tr>\n",
       "  </thead>\n",
       "  <tbody>\n",
       "    <tr>\n",
       "      <th>gender</th>\n",
       "      <td>male</td>\n",
       "      <td>female</td>\n",
       "    </tr>\n",
       "    <tr>\n",
       "      <th>size</th>\n",
       "      <td>40.0</td>\n",
       "      <td>52.0</td>\n",
       "    </tr>\n",
       "    <tr>\n",
       "      <th>average</th>\n",
       "      <td>75610.6</td>\n",
       "      <td>64818.4</td>\n",
       "    </tr>\n",
       "    <tr>\n",
       "      <th>populattion variance</th>\n",
       "      <td>1427996183.64</td>\n",
       "      <td>1125653203.84</td>\n",
       "    </tr>\n",
       "  </tbody>\n",
       "</table>\n",
       "</div>"
      ],
      "text/plain": [
       "                               male         female\n",
       "gender                         male         female\n",
       "size                           40.0           52.0\n",
       "average                     75610.6        64818.4\n",
       "populattion variance  1427996183.64  1125653203.84"
      ]
     },
     "execution_count": 65,
     "metadata": {},
     "output_type": "execute_result"
    }
   ],
   "source": [
    "data_g=[['male','female'],[df[df['Gender']=='Male'].size/10,df[df['Gender']=='Female'].size/10],\n",
    "        [round(df[df['Gender']=='Male']['Salary'].mean(),2),round(df[df['Gender']=='Female']['Salary'].mean(),2)],\n",
    "       [male_variance_salary,female_variance_salary]]\n",
    "df2=pd.DataFrame(data_g,columns=['male','female'],index=['gender','size','average','populattion variance'])\n",
    "df2"
   ]
  },
  {
   "cell_type": "code",
   "execution_count": 80,
   "id": "a21dcb9e",
   "metadata": {},
   "outputs": [
    {
     "name": "stdout",
     "output_type": "stream",
     "text": [
      "below 35 \n",
      "p_value ->  0.0753\n",
      "t_score -> 1.45\n"
     ]
    }
   ],
   "source": [
    "print('below 35 ')\n",
    "print(\"p_value -> \",p_value)\n",
    "print(\"t_score ->\",t_score)\n"
   ]
  },
  {
   "cell_type": "markdown",
   "id": "777a76d4",
   "metadata": {},
   "source": [
    "# AT 10% Significance , we reject the null hypothis\n",
    "\n",
    "this very close to 0.1 but still below it "
   ]
  },
  {
   "cell_type": "markdown",
   "id": "45304150",
   "metadata": {},
   "source": [
    "## this IMPLIES that 95% significance\n"
   ]
  },
  {
   "cell_type": "markdown",
   "id": "60314df4",
   "metadata": {},
   "source": [
    "# awage gap does exist for older employees "
   ]
  },
  {
   "cell_type": "markdown",
   "id": "fc4210d3",
   "metadata": {},
   "source": [
    "\n",
    "\n",
    " \n",
    "\n",
    " "
   ]
  },
  {
   "cell_type": "markdown",
   "id": "63a4a9ee",
   "metadata": {},
   "source": [
    " \n",
    "  \n",
    "   \n",
    "    \n",
    "     \n",
    "      \n",
    "       \n",
    "        \n",
    "        "
   ]
  },
  {
   "cell_type": "markdown",
   "id": "75cd410e",
   "metadata": {},
   "source": [
    " "
   ]
  },
  {
   "cell_type": "markdown",
   "id": "0bbd6a0e",
   "metadata": {},
   "source": [
    "<h1 style=\"color:red;\">thank you sokrat ALtarch for this 😍🥰😍.</h1>\n"
   ]
  }
 ],
 "metadata": {
  "kernelspec": {
   "display_name": "Python 3 (ipykernel)",
   "language": "python",
   "name": "python3"
  },
  "language_info": {
   "codemirror_mode": {
    "name": "ipython",
    "version": 3
   },
   "file_extension": ".py",
   "mimetype": "text/x-python",
   "name": "python",
   "nbconvert_exporter": "python",
   "pygments_lexer": "ipython3",
   "version": "3.9.12"
  }
 },
 "nbformat": 4,
 "nbformat_minor": 5
}
